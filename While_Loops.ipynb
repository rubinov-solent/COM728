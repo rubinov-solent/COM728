{
 "cells": [
  {
   "cell_type": "markdown",
   "id": "5500862e",
   "metadata": {},
   "source": [
    "simple_loop"
   ]
  },
  {
   "cell_type": "code",
   "execution_count": 2,
   "id": "d9a97ad1",
   "metadata": {},
   "outputs": [
    {
     "name": "stdout",
     "output_type": "stream",
     "text": [
      "How many cables should I remove?5\n",
      "Removed cable.\n",
      "Removed cable.\n",
      "Removed cable.\n",
      "Removed cable.\n",
      "Removed cable.\n"
     ]
    }
   ],
   "source": [
    "# Coding Practice: While Loops\n",
    "# Activity 1: Simple loop\n",
    "cables = int(input(\"How many cables should I remove?\"))\n",
    "removed_cables = 0\n",
    "while removed_cables < cables:\n",
    "    print (\"Removed cable.\")\n",
    "    removed_cables += 1 "
   ]
  },
  {
   "cell_type": "markdown",
   "id": "6ebe2c3b",
   "metadata": {},
   "source": [
    "Activity 2: count"
   ]
  },
  {
   "cell_type": "code",
   "execution_count": 4,
   "id": "e17afec3",
   "metadata": {},
   "outputs": [
    {
     "name": "stdout",
     "output_type": "stream",
     "text": [
      "How many live cables must I avoid?6\n",
      "Avoiding...Done! 1 cables avoided.\n",
      "Avoiding...Done! 2 cables avoided.\n",
      "Avoiding...Done! 3 cables avoided.\n",
      "Avoiding...Done! 4 cables avoided.\n",
      "Avoiding...Done! 5 cables avoided.\n",
      "Avoiding...Done! 6 cables avoided.\n"
     ]
    }
   ],
   "source": [
    "# Activity 2: count\n",
    "cables = int(input(\"How many live cables must I avoid?\"))\n",
    "live_cables = 0\n",
    "while live_cables < cables:\n",
    "    live_cables +=1\n",
    "    print(f\"Avoiding...Done! {live_cables} cables avoided.\")"
   ]
  },
  {
   "cell_type": "markdown",
   "id": "139255c8",
   "metadata": {},
   "source": [
    "sum_100"
   ]
  },
  {
   "cell_type": "code",
   "execution_count": 6,
   "id": "3c55d794",
   "metadata": {},
   "outputs": [
    {
     "name": "stdout",
     "output_type": "stream",
     "text": [
      "Calculating the sum of the first 100 numbers...\n",
      "...Done! The answer is 5050\n"
     ]
    }
   ],
   "source": [
    "#Activity 3: Sum 100\n",
    "print (\"Calculating the sum of the first 100 numbers...\")\n",
    "total = 0\n",
    "number = 1\n",
    "while number <= 100: \n",
    "    total += number\n",
    "    number += 1\n",
    "print (f\"...Done! The answer is {total}\")"
   ]
  },
  {
   "cell_type": "markdown",
   "id": "daad509a",
   "metadata": {},
   "source": [
    "sum_user_numbers"
   ]
  },
  {
   "cell_type": "code",
   "execution_count": 12,
   "id": "db1382c3",
   "metadata": {},
   "outputs": [
    {
     "name": "stdout",
     "output_type": "stream",
     "text": [
      "How many numbers should I sum up?4\n",
      "Please enter number 1 of 4:11\n",
      "Please enter number 2 of 4:6\n",
      "Please enter number 3 of 4:22\n",
      "Please enter number 4 of 4:12\n",
      "The answer is 51\n"
     ]
    }
   ],
   "source": [
    "#Optional: Sum User Numbers\n",
    "number = int(input (\"How many numbers should I sum up?\"))\n",
    "i = 1\n",
    "total = 0\n",
    "while i <= number:\n",
    "        total += int(input(f\"Please enter number {i} of {number}: \"))\n",
    "        i +=1 \n",
    "print(f\"The answer is {total}\") \n",
    "                     "
   ]
  },
  {
   "cell_type": "code",
   "execution_count": null,
   "id": "7f5747a9",
   "metadata": {},
   "outputs": [],
   "source": []
  },
  {
   "cell_type": "code",
   "execution_count": null,
   "id": "ee3a8efc",
   "metadata": {},
   "outputs": [],
   "source": []
  }
 ],
 "metadata": {
  "kernelspec": {
   "display_name": "COM728",
   "language": "python",
   "name": "com728"
  },
  "language_info": {
   "codemirror_mode": {
    "name": "ipython",
    "version": 3
   },
   "file_extension": ".py",
   "mimetype": "text/x-python",
   "name": "python",
   "nbconvert_exporter": "python",
   "pygments_lexer": "ipython3",
   "version": "3.11.5"
  }
 },
 "nbformat": 4,
 "nbformat_minor": 5
}
