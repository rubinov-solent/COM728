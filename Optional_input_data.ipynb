{
 "cells": [
  {
   "cell_type": "markdown",
   "id": "0e69a449",
   "metadata": {},
   "source": [
    "Create a code that asks for personal information such as: first name, last name, location, height (in inch) and year of birth.\n",
    "Display individual information (one line per data):\n",
    "first name with right-justify of 20 characters length\n",
    "last name with left-justify of 20 characters length\n",
    "location with center-justify of 20 characters length\n",
    "height with 4 decimal points\n",
    "year of birth\n",
    "Present a greeting message to the user and showcase all the information in a single sentence on the screen, utilising multiple print statement codes"
   ]
  },
  {
   "cell_type": "code",
   "execution_count": 14,
   "id": "e7b6a865",
   "metadata": {},
   "outputs": [
    {
     "name": "stdout",
     "output_type": "stream",
     "text": [
      "Enter your first name:Ivan\n",
      "Enter your last name:Rubinov\n",
      "Enter your location:Southampton\n",
      "Enter your height (in inch):74\n",
      "Enter your year of birth:1973\n",
      "First Name ****************Ivan\n",
      "Last Name Rubinov*************\n",
      "Location ****Southampton*****\n",
      "Height (in inch) 74.0000\n",
      "Year of birth 1973\n",
      "Hello Ivan Rubinov! Your location is Southampton, height (in inch) is 74.0, year of birth is 1973\n"
     ]
    }
   ],
   "source": [
    "# Ask user to enter first name\n",
    "first_name = input(\"Enter your first name:\")\n",
    "# Ask user to enter last name\n",
    "last_name = input(\"Enter your last name:\")\n",
    "# Ask user to enter location\n",
    "location = input(\"Enter your location:\")\n",
    "# Ask user to enter height (in inch)\n",
    "height_inch = float(input(\"Enter your height (in inch):\"))\n",
    "# Ask user to enter year of birth\n",
    "birth_year = input(\"Enter your year of birth:\")\n",
    "# Display first name with right-justify of 20 characters length\n",
    "print (f\"First Name {first_name:*>20}\")\n",
    "# Display last name with left-justify of 20 characters length\n",
    "print (f\"Last Name {last_name:*<20}\")\n",
    "# Display location with center-justify of 20 characters length\n",
    "print (f\"Location {location:*^20}\")\n",
    "# Display height with 4 decimal points\n",
    "print (f\"Height (in inch) {height_inch:.4f}\")\n",
    "# Display year of birth\n",
    "print (f\"Year of birth {birth_year}\")\n",
    "# Present a greeting message in a single sentence on the screen\n",
    "print (f\"Hello {first_name} {last_name}! \", end=\"\")\n",
    "print (f\"Your location is {location}, height (in inch) is {height_inch}, year of birth is {birth_year}\")"
   ]
  },
  {
   "cell_type": "code",
   "execution_count": null,
   "id": "61cfc245",
   "metadata": {},
   "outputs": [],
   "source": []
  }
 ],
 "metadata": {
  "kernelspec": {
   "display_name": "COM728",
   "language": "python",
   "name": "com728"
  },
  "language_info": {
   "codemirror_mode": {
    "name": "ipython",
    "version": 3
   },
   "file_extension": ".py",
   "mimetype": "text/x-python",
   "name": "python",
   "nbconvert_exporter": "python",
   "pygments_lexer": "ipython3",
   "version": "3.11.5"
  }
 },
 "nbformat": 4,
 "nbformat_minor": 5
}
