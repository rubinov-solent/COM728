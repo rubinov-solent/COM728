{
 "cells": [
  {
   "cell_type": "markdown",
   "id": "9d2241dc",
   "metadata": {},
   "source": [
    "count_down"
   ]
  },
  {
   "cell_type": "code",
   "execution_count": 4,
   "id": "ff9dda9d",
   "metadata": {},
   "outputs": [
    {
     "name": "stdout",
     "output_type": "stream",
     "text": [
      "How far are we from the cave (in steps)?9\n",
      "9 steps remaining\n",
      "8 steps remaining\n",
      "7 steps remaining\n",
      "6 steps remaining\n",
      "5 steps remaining\n",
      "4 steps remaining\n",
      "3 steps remaining\n",
      "2 steps remaining\n",
      "1 steps remaining\n",
      "We have reached the cave!\n"
     ]
    }
   ],
   "source": [
    "# Coding Practice: For Loop\n",
    "# Activity 1: count down\n",
    "distance = int(input(\"How far are we from the cave (in steps)?\"))\n",
    "for counter in range(distance):\n",
    "    print (f\"{distance - counter} steps remaining\")\n",
    "print (\"We have reached the cave!\")"
   ]
  },
  {
   "cell_type": "markdown",
   "id": "21309bcf",
   "metadata": {},
   "source": [
    "range"
   ]
  },
  {
   "cell_type": "code",
   "execution_count": 26,
   "id": "b50a3d5a",
   "metadata": {},
   "outputs": [
    {
     "name": "stdout",
     "output_type": "stream",
     "text": [
      "What level of brightness is required? 8\n",
      "\n",
      "Adjusting brightness...\n",
      "Beep's brightness level: **\n",
      "Bop's brightness level: **\n",
      "Beep's brightness level: ****\n",
      "Bop's brightness level: ****\n",
      "Beep's brightness level: ******\n",
      "Bop's brightness level: ******\n",
      "Beep's brightness level: ********\n",
      "Bop's brightness level: ********\n",
      "Adjustments complete!\n"
     ]
    }
   ],
   "source": [
    "# Activity 2: Range\n",
    "brightness  = int(input(\"What level of brightness is required? \"))\n",
    "if brightness%2 == 0:\n",
    "    print()\n",
    "    print(\"Adjusting brightness...\")\n",
    "\n",
    "# range(start, stop[, step])\n",
    "    for counter in range(0, brightness, 2):\n",
    "        # Used (counter+2) to transform zero to 1\n",
    "        counter_in_stars = \"*\"*(counter+2)\n",
    "        print(f\"Beep\\'s brightness level: {counter_in_stars}\")\n",
    "        print(f\"Bop\\'s brightness level: {counter_in_stars}\")\n",
    "    print(\"Adjustments complete!\") \n",
    "    \n",
    "else:\n",
    "       print (\"It is not an even number\")"
   ]
  },
  {
   "cell_type": "code",
   "execution_count": null,
   "id": "07386950",
   "metadata": {},
   "outputs": [],
   "source": []
  },
  {
   "cell_type": "code",
   "execution_count": null,
   "id": "6456fdcf",
   "metadata": {},
   "outputs": [],
   "source": []
  },
  {
   "cell_type": "code",
   "execution_count": null,
   "id": "ee961188",
   "metadata": {},
   "outputs": [],
   "source": []
  }
 ],
 "metadata": {
  "kernelspec": {
   "display_name": "COM728",
   "language": "python",
   "name": "com728"
  },
  "language_info": {
   "codemirror_mode": {
    "name": "ipython",
    "version": 3
   },
   "file_extension": ".py",
   "mimetype": "text/x-python",
   "name": "python",
   "nbconvert_exporter": "python",
   "pygments_lexer": "ipython3",
   "version": "3.11.5"
  }
 },
 "nbformat": 4,
 "nbformat_minor": 5
}
