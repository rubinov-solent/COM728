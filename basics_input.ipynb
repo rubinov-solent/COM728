{
 "cells": [
  {
   "cell_type": "markdown",
   "id": "fc3b5173",
   "metadata": {},
   "source": [
    "user_input"
   ]
  },
  {
   "cell_type": "code",
   "execution_count": 1,
   "id": "7582f8ae",
   "metadata": {},
   "outputs": [
    {
     "name": "stdout",
     "output_type": "stream",
     "text": [
      "What is your name human?\n",
      "Ivan\n",
      "It is nice to meet you human Ivan\n"
     ]
    }
   ],
   "source": [
    "# Ask user to enter their name\n",
    "print (\"What is your name human?\")\n",
    "name = input()\n",
    "print(f\"It is nice to meet you human {name}\")"
   ]
  },
  {
   "cell_type": "markdown",
   "id": "521737af",
   "metadata": {},
   "source": [
    "user_input_amended"
   ]
  },
  {
   "cell_type": "code",
   "execution_count": 2,
   "id": "2736fe0b",
   "metadata": {},
   "outputs": [
    {
     "name": "stdout",
     "output_type": "stream",
     "text": [
      "What is your name human?\n",
      "It is nice to meet you human Ivan\n"
     ]
    }
   ],
   "source": [
    "# Amended code\n",
    "# Ask user to enter their name\n",
    "print (\"What is your name human?\")\n",
    "name = input(\"It is nice to meet you human \")\n"
   ]
  },
  {
   "cell_type": "markdown",
   "id": "f1644ff6",
   "metadata": {},
   "source": [
    "Data Type"
   ]
  },
  {
   "cell_type": "code",
   "execution_count": 4,
   "id": "3043f39d",
   "metadata": {},
   "outputs": [
    {
     "name": "stdout",
     "output_type": "stream",
     "text": [
      "What is your name human?\n",
      "Ivan\n",
      "How old are you (in years)?\n",
      "50\n",
      "How tall are you (in meters)?\n",
      "1.88\n",
      "How much do you weight (in kilograms)?\n",
      "72\n",
      "Ivan, are you 50 years old and you bmi is 20.37\n"
     ]
    }
   ],
   "source": [
    "# Ask user to enter their name\n",
    "print (\"What is your name human?\")\n",
    "name = input()\n",
    "# Ask user to enter their age\n",
    "print (\"How old are you (in years)?\")\n",
    "age = int(input())\n",
    "# Ask user to enter their height\n",
    "print (\"How tall are you (in meters)?\")\n",
    "height = float(input())\n",
    "# Ask user to enter their weight\n",
    "print (\"How much do you weight (in kilograms)?\")\n",
    "weight = int(input())\n",
    "bmi = float(weight/height**2)\n",
    "# Print bmi\n",
    "print (f\"{name}, are you {age} years old and you bmi is {bmi:.2f}\")"
   ]
  },
  {
   "cell_type": "code",
   "execution_count": null,
   "id": "4bf1f03c",
   "metadata": {},
   "outputs": [],
   "source": []
  }
 ],
 "metadata": {
  "kernelspec": {
   "display_name": "COM728",
   "language": "python",
   "name": "com728"
  },
  "language_info": {
   "codemirror_mode": {
    "name": "ipython",
    "version": 3
   },
   "file_extension": ".py",
   "mimetype": "text/x-python",
   "name": "python",
   "nbconvert_exporter": "python",
   "pygments_lexer": "ipython3",
   "version": "3.11.5"
  }
 },
 "nbformat": 4,
 "nbformat_minor": 5
}
