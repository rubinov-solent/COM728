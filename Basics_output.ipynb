{
 "cells": [
  {
   "cell_type": "markdown",
   "id": "30e7e7e5",
   "metadata": {},
   "source": [
    "simple_message "
   ]
  },
  {
   "cell_type": "code",
   "execution_count": 1,
   "id": "60d19b7a",
   "metadata": {},
   "outputs": [
    {
     "name": "stdout",
     "output_type": "stream",
     "text": [
      "System failure Imminent!\n"
     ]
    }
   ],
   "source": [
    "# Display message to the standard output\n",
    "print (\"System failure Imminent!\")"
   ]
  },
  {
   "cell_type": "markdown",
   "id": "e06e885e",
   "metadata": {},
   "source": [
    "multiline_message"
   ]
  },
  {
   "cell_type": "code",
   "execution_count": 3,
   "id": "9cfb871b",
   "metadata": {},
   "outputs": [
    {
     "name": "stdout",
     "output_type": "stream",
     "text": [
      "System failure Imminent!\n",
      "System reboot has been initiated...\n"
     ]
    }
   ],
   "source": [
    "# Display message to the standard output\n",
    "print (\"System failure Imminent!\")\n",
    "print (\"System reboot has been initiated...\")"
   ]
  },
  {
   "cell_type": "markdown",
   "id": "9914b5b7",
   "metadata": {},
   "source": [
    "updated_code"
   ]
  },
  {
   "cell_type": "code",
   "execution_count": 4,
   "id": "7430ca4a",
   "metadata": {},
   "outputs": [
    {
     "name": "stdout",
     "output_type": "stream",
     "text": [
      "System failure Imminent!\n",
      "System reboot has been initiated...\n",
      "\n",
      "...rebooting sensory system\n",
      "...rebooting output motors\n",
      "...rebooting hover engone\n",
      "\n",
      "System online\n"
     ]
    }
   ],
   "source": [
    "# Display message to the standard output\n",
    "print (\"System failure Imminent!\")\n",
    "print (\"System reboot has been initiated...\")\n",
    "print()\n",
    "print(\"...rebooting sensory system\")\n",
    "print(\"...rebooting output motors\")\n",
    "print(\"...rebooting hover engone\")\n",
    "print()\n",
    "print(\"System online\")"
   ]
  },
  {
   "cell_type": "markdown",
   "id": "dac67e61",
   "metadata": {},
   "source": [
    "escape_characters"
   ]
  },
  {
   "cell_type": "code",
   "execution_count": 12,
   "id": "c89812d3",
   "metadata": {},
   "outputs": [
    {
     "name": "stdout",
     "output_type": "stream",
     "text": [
      "\n",
      " Displays a new line\n",
      "\t Displays a tab space\n",
      "\\ Displays a back slash\n",
      "\" Displays a double quote\n",
      "' Displays a single quote\n",
      "\n",
      "\t I am Beep!\n"
     ]
    }
   ],
   "source": [
    "# Display escape characters\n",
    "print(\"\\n Displays a new line\")\n",
    "print(\"\\t Displays a tab space\")\n",
    "print(\"\\\\ Displays a back slash\")\n",
    "print(\"\\\" Displays a double quote\")\n",
    "print(\"\\' Displays a single quote\")\n",
    "print(\"\\n\\t I am Beep!\")"
   ]
  },
  {
   "cell_type": "code",
   "execution_count": null,
   "id": "60ea73ae",
   "metadata": {},
   "outputs": [],
   "source": []
  }
 ],
 "metadata": {
  "kernelspec": {
   "display_name": "COM728",
   "language": "python",
   "name": "com728"
  },
  "language_info": {
   "codemirror_mode": {
    "name": "ipython",
    "version": 3
   },
   "file_extension": ".py",
   "mimetype": "text/x-python",
   "name": "python",
   "nbconvert_exporter": "python",
   "pygments_lexer": "ipython3",
   "version": "3.11.5"
  }
 },
 "nbformat": 4,
 "nbformat_minor": 5
}
