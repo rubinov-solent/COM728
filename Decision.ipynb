{
 "cells": [
  {
   "cell_type": "markdown",
   "id": "45420135",
   "metadata": {},
   "source": [
    "if_else statement"
   ]
  },
  {
   "cell_type": "code",
   "execution_count": 6,
   "id": "e7efd7e6",
   "metadata": {},
   "outputs": [
    {
     "name": "stdout",
     "output_type": "stream",
     "text": [
      "Enter an activity:law\n",
      "Performing activity...\n",
      "Activity completed!\n"
     ]
    }
   ],
   "source": [
    "# Coding Practice: Decision\n",
    "# Activity 1: IF-Else statement\n",
    "\n",
    "# Asking the user to enter an activity\n",
    "activity = input(\"Enter an activity:\")\n",
    "if activity == 'calculate':\n",
    "    print ('Performing calculations...')\n",
    "else: \n",
    "    print ('Performing activity...')\n",
    "print (\"Activity completed!\")"
   ]
  },
  {
   "cell_type": "markdown",
   "id": "73abec5c",
   "metadata": {},
   "source": [
    "if_elif_else statement"
   ]
  },
  {
   "cell_type": "code",
   "execution_count": 9,
   "id": "b01d7130",
   "metadata": {},
   "outputs": [
    {
     "name": "stdout",
     "output_type": "stream",
     "text": [
      "Towards which direction should I paint (up, down, left or right)?down\n",
      "I am painting in the downward direction!\n"
     ]
    }
   ],
   "source": [
    "# Activity 2: IF-ELIF-ELSE Statement\n",
    "# Prompting the user for a direction to move the paint brush (up, down, left or right)\n",
    "direction = input(\"Towards which direction should I paint (up, down, left or right)?\")\n",
    "# Work out in which direction Beep should paint and display a suitable message\n",
    "if direction == \"up\":\n",
    "    print (\"I am painting in the upward direction!\")\n",
    "elif direction == \"down\":\n",
    "    print (\"I am painting in the downward direction!\")\n",
    "elif direction == \"left\":\n",
    "    print (\"I am painting in the leftward direction!\")\n",
    "elif direction == \"right\":\n",
    "    print (\"I am painting in the rightward direction!\")   \n",
    "else: \n",
    "    print(\"Unrecognised direction\")\n"
   ]
  },
  {
   "cell_type": "markdown",
   "id": "40200d5b",
   "metadata": {},
   "source": [
    "modulo_operator"
   ]
  },
  {
   "cell_type": "code",
   "execution_count": 13,
   "id": "e9ecaa0b",
   "metadata": {},
   "outputs": [
    {
     "name": "stdout",
     "output_type": "stream",
     "text": [
      "Please enter a whole number:5\n",
      "The number 5 is an odd number\n"
     ]
    }
   ],
   "source": [
    "#Activity 3: Modulo Operator\n",
    "# Prompting the user to enter a whole number\n",
    "number = int(input(\"Please enter a whole number:\"))\n",
    "# Work out if the number is even or odd\n",
    "if number%2 == 0:\n",
    "    print(f\"The number {number} is an even number\")\n",
    "else:\n",
    "    print(f\"The number {number} is an odd number\")\n",
    "        \n"
   ]
  },
  {
   "cell_type": "markdown",
   "id": "013ba171",
   "metadata": {},
   "source": [
    "comparison_operators"
   ]
  },
  {
   "cell_type": "code",
   "execution_count": 14,
   "id": "7c2b1eb3",
   "metadata": {},
   "outputs": [
    {
     "name": "stdout",
     "output_type": "stream",
     "text": [
      "Please enter the first number:23\n",
      "Please enter the second number:45\n",
      "The first number is the smallest!\n"
     ]
    }
   ],
   "source": [
    "# Optional: Comparison Operators\n",
    "# Prompting the user to enter the first number\n",
    "first_number = int(input(\"Please enter the first number:\"))\n",
    "# Prompting the user to enter the second number\n",
    "second_number = int(input(\"Please enter the second number:\"))\n",
    "if first_number < second_number:\n",
    "    print(\"The first number is the smallest!\")\n",
    "elif first_number > second_number:\n",
    "    print(\"The second number is the smallest!\")\n",
    "else:\n",
    "    print(\"Both are equal!\")\n"
   ]
  },
  {
   "cell_type": "code",
   "execution_count": null,
   "id": "8014cc72",
   "metadata": {},
   "outputs": [],
   "source": []
  }
 ],
 "metadata": {
  "kernelspec": {
   "display_name": "COM728",
   "language": "python",
   "name": "com728"
  },
  "language_info": {
   "codemirror_mode": {
    "name": "ipython",
    "version": 3
   },
   "file_extension": ".py",
   "mimetype": "text/x-python",
   "name": "python",
   "nbconvert_exporter": "python",
   "pygments_lexer": "ipython3",
   "version": "3.11.5"
  }
 },
 "nbformat": 4,
 "nbformat_minor": 5
}
